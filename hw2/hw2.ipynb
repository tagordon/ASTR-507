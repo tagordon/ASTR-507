{
 "cells": [
  {
   "cell_type": "code",
   "execution_count": 2,
   "metadata": {},
   "outputs": [],
   "source": [
    "import numpy as np\n",
    "import scipy.constants as c\n",
    "import matplotlib.pyplot as pl\n",
    "import astropy.constants as ac\n",
    "%matplotlib inline"
   ]
  },
  {
   "cell_type": "code",
   "execution_count": 7,
   "metadata": {},
   "outputs": [
    {
     "name": "stdout",
     "output_type": "stream",
     "text": [
      "64617458.18112081\n"
     ]
    }
   ],
   "source": [
    "from scipy.optimize import fsolve\n",
    "\n",
    "# maxwell velocity distribution\n",
    "def maxwell(v, N, T, m):\n",
    "    return N*4*np.pi*v*v*((m/(2*np.pi*c.k*T))**(3./2.))*np.exp(-m*v*v/(2*c.k*T))\n",
    "\n",
    "# wrap maxwell in this function to be given to fsolve\n",
    "def F(v, N, T, m, n0):\n",
    "    return maxwell(v, N, T, m) - n0\n",
    "\n",
    "# solve for where N(v > v0) = 1\n",
    "x0 = 6e6\n",
    "n = 0.01\n",
    "V = 40*((ac.pc.value*100*1000)**3.)\n",
    "N = n*V\n",
    "T = 1e6\n",
    "m = c.m_e\n",
    "n0 = 1\n",
    "sol = fsolve(F, x0, args=(N, T, m, n0))\n",
    "print(sol[0])"
   ]
  },
  {
   "cell_type": "code",
   "execution_count": 7,
   "metadata": {},
   "outputs": [
    {
     "name": "stdout",
     "output_type": "stream",
     "text": [
      "hydrogen molecules:  4.195484703649407e+42\n",
      "oxygen molecules:  3.307940602757478e-54\n",
      "Deuterium (DH) molecules:  3.8688138490258714e+39\n"
     ]
    }
   ],
   "source": [
    "# compute the escape flux\n",
    "\n",
    "def v_s(T, m):\n",
    "    return np.sqrt(2*c.k*T/m)\n",
    "\n",
    "def lambd(v_esc, T, m):\n",
    "    return (v_esc/v_s(T, m))**2.\n",
    "\n",
    "def escape_flux(v_esc, T, m, n):\n",
    "    return (n*v_s(T, m)/(2*np.sqrt(np.pi)))*(lambd(v_esc, T, m) + 1)*np.exp(-lambd(v_esc, T, m))\n",
    "\n",
    "# for molecular hydrogen\n",
    "T = 1000\n",
    "M_p = ac.M_earth.value\n",
    "R_p = ac.R_earth.value\n",
    "v_esc = np.sqrt(2*c.G*M_p/R_p)\n",
    "g = 9.81 \n",
    "sigma = np.pi*((1e-10)**2)\n",
    "year_to_sec = 365.25*24*60*60\n",
    "earth_SA = 4*np.pi*(R_p**2)\n",
    "\n",
    "m = 2*1.008*c.u\n",
    "n = m*g/(c.k*T*sigma)\n",
    "# escape flux integrated over surface area and time (1 Byr)\n",
    "print('hydrogen molecules: ', escape_flux(v_esc, T, m, n)*earth_SA*1e9*year_to_sec)\n",
    "\n",
    "# for oxygen\n",
    "m = 2*16*c.u\n",
    "n = m*g/(c.k*T*sigma)\n",
    "print('oxygen molecules: ', escape_flux(v_esc, T, m, n)*earth_SA*1e9*year_to_sec)\n",
    "\n",
    "# for deuterium\n",
    "m = c.m_p + c.m_n + 1.008*c.u\n",
    "n = m*g/(c.k*T*sigma)\n",
    "print('Deuterium (DH) molecules: ', escape_flux(v_esc, T, m, n)*earth_SA*1e9*year_to_sec)"
   ]
  },
  {
   "cell_type": "code",
   "execution_count": null,
   "metadata": {},
   "outputs": [],
   "source": []
  }
 ],
 "metadata": {
  "kernelspec": {
   "display_name": "Python 3",
   "language": "python",
   "name": "python3"
  },
  "language_info": {
   "codemirror_mode": {
    "name": "ipython",
    "version": 3
   },
   "file_extension": ".py",
   "mimetype": "text/x-python",
   "name": "python",
   "nbconvert_exporter": "python",
   "pygments_lexer": "ipython3",
   "version": "3.6.4"
  }
 },
 "nbformat": 4,
 "nbformat_minor": 2
}
