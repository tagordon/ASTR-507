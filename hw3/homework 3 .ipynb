{
 "cells": [
  {
   "cell_type": "code",
   "execution_count": 191,
   "metadata": {},
   "outputs": [],
   "source": [
    "import numpy as np\n",
    "from scipy.optimize import fsolve\n",
    "from scipy import integrate\n",
    "import scipy.constants as c\n",
    "\n",
    "import matplotlib.pyplot as pl\n",
    "%matplotlib inline\n",
    "\n",
    "import warnings\n",
    "warnings.simplefilter('ignore')"
   ]
  },
  {
   "cell_type": "code",
   "execution_count": 192,
   "metadata": {},
   "outputs": [],
   "source": [
    "T = 6e6\n",
    "s = 2\n",
    "lam = (c.h/np.sqrt(2*np.pi*c.m_e*c.k*T))*100\n",
    "rho0 = 325/1000\n",
    "ne = 1.2*rho0/(1.4*c.m_p)\n",
    "f = (np.sqrt(np.pi)*(lam**3))/(2*(2*s+1))*ne\n",
    "\n",
    "def F(z, degree):\n",
    "    integrand = lambda w: (z*w**(degree))/((np.exp(w)) + z)\n",
    "    value, error = integrate.quad(integrand, a=0, b=np.inf)\n",
    "    return value\n",
    "\n",
    "def P(z):\n",
    "    return (4*(2*s+1)/(3*np.sqrt(np.pi)*(lam**3)))*F(z, 1.5)\n",
    "\n",
    "def n(z):\n",
    "    return (2*(2*s+1)/(np.sqrt(np.pi)*(lam**3)))*F(z, 0.5)"
   ]
  },
  {
   "cell_type": "code",
   "execution_count": 193,
   "metadata": {},
   "outputs": [
    {
     "name": "stdout",
     "output_type": "stream",
     "text": [
      "z:  1.3024436086760431\n"
     ]
    }
   ],
   "source": [
    "func = lambda z: np.abs(F(z, 0.5) - f)\n",
    "z_min = minimize(func, 3, method='L-BFGS-B', bounds=[(0, np.inf)])\n",
    "print(\"z: \", z_min.x[0])"
   ]
  },
  {
   "cell_type": "code",
   "execution_count": 200,
   "metadata": {},
   "outputs": [
    {
     "name": "stdout",
     "output_type": "stream",
     "text": [
      "P:  1.937125680127632e+26\n"
     ]
    },
    {
     "data": {
      "text/plain": [
       "1.3348135200790096e+26"
      ]
     },
     "execution_count": 200,
     "metadata": {},
     "output_type": "execute_result"
    }
   ],
   "source": [
    "# actual pressure\n",
    "print(\"P: \", P(z_min.x[0]))\n",
    "4*(2*s+1)/(3*np.sqrt(np.pi)*(lam**3))"
   ]
  },
  {
   "cell_type": "code",
   "execution_count": 187,
   "metadata": {},
   "outputs": [
    {
     "name": "stdout",
     "output_type": "stream",
     "text": [
      "ideal gas pressure:  1.3796635008712358e+17\n"
     ]
    }
   ],
   "source": [
    "# ideal gas version\n",
    "P = ne*(c.k*T*1e7)\n",
    "print(\"ideal gas pressure: \", P)"
   ]
  },
  {
   "cell_type": "code",
   "execution_count": 188,
   "metadata": {},
   "outputs": [
    {
     "name": "stdout",
     "output_type": "stream",
     "text": [
      "M:  5.619402733589355e+24 \n",
      "R:  526481459.0319923\n"
     ]
    }
   ],
   "source": [
    "mu = c.m_p*(1.4/1.2)\n",
    "M = np.sqrt(rho0/((mu*F(z_min.x[0], 0.5))**2))*0.016\n",
    "R = (8.44*M/rho0)**(1/3)\n",
    "print(\"M: \", M, \"\\nR: \", R)"
   ]
  },
  {
   "cell_type": "code",
   "execution_count": null,
   "metadata": {},
   "outputs": [],
   "source": []
  }
 ],
 "metadata": {
  "kernelspec": {
   "display_name": "Python 3",
   "language": "python",
   "name": "python3"
  },
  "language_info": {
   "codemirror_mode": {
    "name": "ipython",
    "version": 3
   },
   "file_extension": ".py",
   "mimetype": "text/x-python",
   "name": "python",
   "nbconvert_exporter": "python",
   "pygments_lexer": "ipython3",
   "version": "3.6.4"
  }
 },
 "nbformat": 4,
 "nbformat_minor": 2
}
