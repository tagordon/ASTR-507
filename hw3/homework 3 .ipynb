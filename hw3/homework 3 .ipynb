{
 "cells": [
  {
   "cell_type": "code",
   "execution_count": 24,
   "metadata": {},
   "outputs": [],
   "source": [
    "import numpy as np\n",
    "from scipy.optimize import minimize\n",
    "from scipy import integrate\n",
    "import scipy.constants as c\n",
    "\n",
    "import matplotlib.pyplot as pl\n",
    "%matplotlib inline"
   ]
  },
  {
   "cell_type": "code",
   "execution_count": 42,
   "metadata": {},
   "outputs": [],
   "source": [
    "m = c.m_e\n",
    "T = 6e6\n",
    "s = 2\n",
    "lam = c.h/np.sqrt(2*np.pi*c.k*T)\n",
    "rho0 = 325*(s)\n",
    "\n",
    "def F(z, degree):\n",
    "    integrand = lambda w: (w**(degree))/((np.exp(w)/z) + 1)\n",
    "    value, error = integrate.quad(integrand, a=0, b=np.inf)\n",
    "    return value\n",
    "\n",
    "def P(z):\n",
    "    return c.k*T*(4*(2*s+1)/(3*np.sqrt(np.pi)*(lam**3)))*F(z, 1.5)\n",
    "\n",
    "def rho(z):\n",
    "    return (2*m*(2*s+1)/(np.sqrt(np.pi)*(lam**3)))*F(z, 0.5)"
   ]
  },
  {
   "cell_type": "code",
   "execution_count": 56,
   "metadata": {},
   "outputs": [
    {
     "name": "stderr",
     "output_type": "stream",
     "text": [
      "/usr/local/lib/python3.6/site-packages/ipykernel_launcher.py:7: RuntimeWarning: divide by zero encountered in double_scalars\n",
      "  import sys\n",
      "/usr/local/lib/python3.6/site-packages/ipykernel_launcher.py:7: RuntimeWarning: overflow encountered in exp\n",
      "  import sys\n"
     ]
    },
    {
     "data": {
      "text/plain": [
       "[<matplotlib.lines.Line2D at 0x1150bf748>]"
      ]
     },
     "execution_count": 56,
     "metadata": {},
     "output_type": "execute_result"
    },
    {
     "data": {
      "image/png": "[encoded data removed]",
      "text/plain": [
       "<matplotlib.figure.Figure at 0x114e82390>"
      ]
     },
     "metadata": {},
     "output_type": "display_data"
    }
   ],
   "source": [
    "z = np.linspace(0, 1, 1000)\n",
    "#pl.plot(z, [P(z) for z in z])\n",
    "pl.semilogy(z, [F(z, 0.5) for z in z])"
   ]
  },
  {
   "cell_type": "code",
   "execution_count": 75,
   "metadata": {},
   "outputs": [
    {
     "data": {
      "text/plain": [
       "[15.0, 9.0, 16.0, 13.0, 11.0, 16.0]"
      ]
     },
     "execution_count": 75,
     "metadata": {},
     "output_type": "execute_result"
    }
   ],
   "source": [
    "[np.sum(np.sort(np.floor(6*np.random.rand(4)+1))[1:]) for t in range(6)]"
   ]
  },
  {
   "cell_type": "code",
   "execution_count": null,
   "metadata": {},
   "outputs": [],
   "source": []
  }
 ],
 "metadata": {
  "kernelspec": {
   "display_name": "Python 3",
   "language": "python",
   "name": "python3"
  },
  "language_info": {
   "codemirror_mode": {
    "name": "ipython",
    "version": 3
   },
   "file_extension": ".py",
   "mimetype": "text/x-python",
   "name": "python",
   "nbconvert_exporter": "python",
   "pygments_lexer": "ipython3",
   "version": "3.6.4"
  }
 },
 "nbformat": 4,
 "nbformat_minor": 2
}
